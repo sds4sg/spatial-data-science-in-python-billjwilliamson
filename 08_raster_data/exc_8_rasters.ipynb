{
 "cells": [
  {
   "cell_type": "markdown",
   "id": "c55ad67b-5707-4b3d-808b-ab78f323a6ce",
   "metadata": {},
   "source": [
    "# Exc 8 Rasters\n",
    "\n",
    "from https://martinfleischmann.net/sds/raster_data/exercise.html \n",
    "\n",
    "download a Gridded population estimates (~100m) for Kenya "
   ]
  },
  {
   "cell_type": "code",
   "execution_count": 2,
   "id": "9826047d-ccdf-49d7-a720-827145a1c339",
   "metadata": {},
   "outputs": [
    {
     "name": "stdout",
     "output_type": "stream",
     "text": [
      "Extracted files:\n",
      "['KEN_population_v2_0_gridded']\n"
     ]
    }
   ],
   "source": [
    "import requests\n",
    "import zipfile\n",
    "import os\n",
    "\n",
    "url = \"https://martinfleischmann.net/sds/raster_data/data/KEN_population_v2_0_gridded.zip\"\n",
    "response = requests.get(url)\n",
    "\n",
    "with open(\"kenya_population.zip\", \"wb\") as f:\n",
    "    f.write(response.content)\n",
    "\n",
    "with zipfile.ZipFile(\"kenya_population.zip\", \"r\") as zip_ref:\n",
    "    zip_ref.extractall(\"kenya_population\")\n",
    "\n",
    "print(\"Extracted files:\")\n",
    "print(os.listdir(\"kenya_population\"))"
   ]
  },
  {
   "cell_type": "code",
   "execution_count": 3,
   "id": "77e5e0c1-6600-4d77-9222-bb954627f4c3",
   "metadata": {},
   "outputs": [
    {
     "name": "stdout",
     "output_type": "stream",
     "text": [
      "Contents of KEN_population_v2_0_gridded directory:\n",
      "['KEN_population_v2_0_gridded.tif', 'KEN_population_v2_0_README.docx', 'KEN_population_v2_0_README.pdf']\n"
     ]
    }
   ],
   "source": [
    "print(\"Contents of KEN_population_v2_0_gridded directory:\")\n",
    "print(os.listdir(\"kenya_population/KEN_population_v2_0_gridded\"))"
   ]
  },
  {
   "cell_type": "code",
   "execution_count": null,
   "id": "9a016eaa-665f-4ffa-bfb5-ee62c52135ee",
   "metadata": {},
   "outputs": [],
   "source": [
    "download Kenya 100m Building class"
   ]
  },
  {
   "cell_type": "code",
   "execution_count": 4,
   "id": "5267af8f-9633-48c3-876e-f7205f046e8c",
   "metadata": {},
   "outputs": [
    {
     "name": "stdout",
     "output_type": "stream",
     "text": [
      "Collecting py7zr\n",
      "  Downloading py7zr-1.0.0-py3-none-any.whl.metadata (17 kB)\n",
      "Collecting texttable (from py7zr)\n",
      "  Downloading texttable-1.7.0-py2.py3-none-any.whl.metadata (9.8 kB)\n",
      "Collecting pycryptodomex>=3.20.0 (from py7zr)\n",
      "  Downloading pycryptodomex-3.23.0-cp37-abi3-win_amd64.whl.metadata (3.5 kB)\n",
      "Requirement already satisfied: brotli>=1.1.0 in c:\\users\\bill\\onedrive - ipn valuers\\documents\\github\\spatial-data-science-in-python-billjwilliamson\\.pixi\\envs\\default\\lib\\site-packages (from py7zr) (1.1.0)\n",
      "Requirement already satisfied: psutil in c:\\users\\bill\\onedrive - ipn valuers\\documents\\github\\spatial-data-science-in-python-billjwilliamson\\.pixi\\envs\\default\\lib\\site-packages (from py7zr) (7.0.0)\n",
      "Collecting pyzstd>=0.16.1 (from py7zr)\n",
      "  Downloading pyzstd-0.17.0-cp312-cp312-win_amd64.whl.metadata (2.6 kB)\n",
      "Collecting pyppmd<1.3.0,>=1.1.0 (from py7zr)\n",
      "  Downloading pyppmd-1.2.0-cp312-cp312-win_amd64.whl.metadata (5.6 kB)\n",
      "Collecting pybcj<1.1.0,>=1.0.0 (from py7zr)\n",
      "  Downloading pybcj-1.0.6-cp312-cp312-win_amd64.whl.metadata (3.8 kB)\n",
      "Collecting multivolumefile>=0.2.3 (from py7zr)\n",
      "  Downloading multivolumefile-0.2.3-py3-none-any.whl.metadata (6.3 kB)\n",
      "Collecting inflate64<1.1.0,>=1.0.0 (from py7zr)\n",
      "  Downloading inflate64-1.0.3-cp312-cp312-win_amd64.whl.metadata (4.5 kB)\n",
      "Requirement already satisfied: typing-extensions>=4.13.2 in c:\\users\\bill\\onedrive - ipn valuers\\documents\\github\\spatial-data-science-in-python-billjwilliamson\\.pixi\\envs\\default\\lib\\site-packages (from pyzstd>=0.16.1->py7zr) (4.14.1)\n",
      "Downloading py7zr-1.0.0-py3-none-any.whl (69 kB)\n",
      "Downloading inflate64-1.0.3-cp312-cp312-win_amd64.whl (35 kB)\n",
      "Downloading pybcj-1.0.6-cp312-cp312-win_amd64.whl (24 kB)\n",
      "Downloading pyppmd-1.2.0-cp312-cp312-win_amd64.whl (46 kB)\n",
      "Downloading multivolumefile-0.2.3-py3-none-any.whl (17 kB)\n",
      "Downloading pycryptodomex-3.23.0-cp37-abi3-win_amd64.whl (1.8 MB)\n",
      "   ---------------------------------------- 0.0/1.8 MB ? eta -:--:--\n",
      "   ----------------------- ---------------- 1.0/1.8 MB 5.6 MB/s eta 0:00:01\n",
      "   ---------------------------------------- 1.8/1.8 MB 5.8 MB/s  0:00:00\n",
      "Downloading pyzstd-0.17.0-cp312-cp312-win_amd64.whl (246 kB)\n",
      "Downloading texttable-1.7.0-py2.py3-none-any.whl (10 kB)\n",
      "Installing collected packages: texttable, pyzstd, pyppmd, pycryptodomex, pybcj, multivolumefile, inflate64, py7zr\n",
      "\n",
      "   ----- ---------------------------------- 1/8 [pyzstd]\n",
      "   --------------- ------------------------ 3/8 [pycryptodomex]\n",
      "   --------------- ------------------------ 3/8 [pycryptodomex]\n",
      "   --------------- ------------------------ 3/8 [pycryptodomex]\n",
      "   --------------- ------------------------ 3/8 [pycryptodomex]\n",
      "   --------------- ------------------------ 3/8 [pycryptodomex]\n",
      "   --------------- ------------------------ 3/8 [pycryptodomex]\n",
      "   --------------- ------------------------ 3/8 [pycryptodomex]\n",
      "   --------------- ------------------------ 3/8 [pycryptodomex]\n",
      "   --------------- ------------------------ 3/8 [pycryptodomex]\n",
      "   --------------- ------------------------ 3/8 [pycryptodomex]\n",
      "   --------------- ------------------------ 3/8 [pycryptodomex]\n",
      "   --------------- ------------------------ 3/8 [pycryptodomex]\n",
      "   --------------- ------------------------ 3/8 [pycryptodomex]\n",
      "   --------------- ------------------------ 3/8 [pycryptodomex]\n",
      "   --------------- ------------------------ 3/8 [pycryptodomex]\n",
      "   --------------- ------------------------ 3/8 [pycryptodomex]\n",
      "   --------------- ------------------------ 3/8 [pycryptodomex]\n",
      "   --------------- ------------------------ 3/8 [pycryptodomex]\n",
      "   --------------- ------------------------ 3/8 [pycryptodomex]\n",
      "   --------------- ------------------------ 3/8 [pycryptodomex]\n",
      "   --------------- ------------------------ 3/8 [pycryptodomex]\n",
      "   --------------- ------------------------ 3/8 [pycryptodomex]\n",
      "   --------------- ------------------------ 3/8 [pycryptodomex]\n",
      "   --------------- ------------------------ 3/8 [pycryptodomex]\n",
      "   --------------- ------------------------ 3/8 [pycryptodomex]\n",
      "   --------------- ------------------------ 3/8 [pycryptodomex]\n",
      "   --------------- ------------------------ 3/8 [pycryptodomex]\n",
      "   --------------- ------------------------ 3/8 [pycryptodomex]\n",
      "   --------------- ------------------------ 3/8 [pycryptodomex]\n",
      "   --------------- ------------------------ 3/8 [pycryptodomex]\n",
      "   --------------- ------------------------ 3/8 [pycryptodomex]\n",
      "   --------------- ------------------------ 3/8 [pycryptodomex]\n",
      "   --------------- ------------------------ 3/8 [pycryptodomex]\n",
      "   --------------- ------------------------ 3/8 [pycryptodomex]\n",
      "   ------------------------- -------------- 5/8 [multivolumefile]\n",
      "   ----------------------------------- ---- 7/8 [py7zr]\n",
      "   ----------------------------------- ---- 7/8 [py7zr]\n",
      "   ----------------------------------- ---- 7/8 [py7zr]\n",
      "   ---------------------------------------- 8/8 [py7zr]\n",
      "\n",
      "Successfully installed inflate64-1.0.3 multivolumefile-0.2.3 py7zr-1.0.0 pybcj-1.0.6 pycryptodomex-3.23.0 pyppmd-1.2.0 pyzstd-0.17.0 texttable-1.7.0\n"
     ]
    }
   ],
   "source": [
    "!pip install py7zr"
   ]
  },
  {
   "cell_type": "code",
   "execution_count": 5,
   "id": "60089a82-2f24-4023-a358-21953c979f22",
   "metadata": {},
   "outputs": [
    {
     "name": "stdout",
     "output_type": "stream",
     "text": [
      "Extracted files:\n",
      "['KEN_building_class_metrics_v1_0_classification_binary.tif', 'KEN_building_class_metrics_v1_0_nonresidential_count.tif', 'KEN_building_class_metrics_v1_0_nonresidential_density.tif', 'KEN_building_class_metrics_v1_0_readme.docx', 'KEN_building_class_metrics_v1_0_residential_count.tif', 'KEN_building_class_metrics_v1_0_residential_density.tif', 'KEN_building_class_metrics_v1_0_residential_mean_score.tif']\n"
     ]
    }
   ],
   "source": [
    "import requests\n",
    "import py7zr\n",
    "import os\n",
    "\n",
    "url = \"https://martinfleischmann.net/sds/raster_data/data/KEN_building_class_metrics_v1_0_rasters.7z\"\n",
    "response = requests.get(url)\n",
    "\n",
    "with open(\"kenya_buildings.7z\", \"wb\") as f:\n",
    "    f.write(response.content)\n",
    "\n",
    "with py7zr.SevenZipFile(\"kenya_buildings.7z\", mode='r') as z:\n",
    "    z.extractall(\"kenya_buildings\")\n",
    "\n",
    "print(\"Extracted files:\")\n",
    "print(os.listdir(\"kenya_buildings\"))"
   ]
  },
  {
   "cell_type": "code",
   "execution_count": null,
   "id": "7b60a0b7-b531-4639-b352-fa52fb961a45",
   "metadata": {},
   "outputs": [],
   "source": []
  }
 ],
 "metadata": {
  "kernelspec": {
   "display_name": "Python 3 (ipykernel)",
   "language": "python",
   "name": "python3"
  },
  "language_info": {
   "codemirror_mode": {
    "name": "ipython",
    "version": 3
   },
   "file_extension": ".py",
   "mimetype": "text/x-python",
   "name": "python",
   "nbconvert_exporter": "python",
   "pygments_lexer": "ipython3",
   "version": "3.12.11"
  }
 },
 "nbformat": 4,
 "nbformat_minor": 5
}
