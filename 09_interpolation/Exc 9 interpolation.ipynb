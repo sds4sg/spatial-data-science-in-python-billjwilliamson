{
 "cells": [
  {
   "cell_type": "markdown",
   "id": "82e32132-69d5-4c3e-a98e-1553050e1a9c",
   "metadata": {},
   "source": [
    "# Interpolation - Exc \n",
    "\n",
    "from https://martinfleischmann.net/sds/interpolation/exercise.html"
   ]
  },
  {
   "cell_type": "code",
   "execution_count": null,
   "id": "c22ab221-d819-42f9-8c67-a1871a1517c2",
   "metadata": {},
   "outputs": [],
   "source": [
    "## bring some data that we used before  \n",
    "\n",
    "import pandas as pd\n",
    "\n",
    "url = \"http://data.insideairbnb.com/czech-republic/prague/prague/2024-12-22/data/listings.csv.gz\"\n",
    "df = pd.read_csv(url, compression='gzip')\n",
    "df.head()"
   ]
  },
  {
   "cell_type": "markdown",
   "id": "075e0dfb-8911-4029-8850-23ecc50f10e7",
   "metadata": {},
   "source": [
    "## Prelims\n",
    "\n",
    "### Create a hexagonal grid of a reasonable resolution covering the area of your data."
   ]
  },
  {
   "cell_type": "code",
   "execution_count": 1,
   "id": "3db9ff97-d647-4a19-8e80-ca7484e6792b",
   "metadata": {},
   "outputs": [
    {
     "name": "stdout",
     "output_type": "stream",
     "text": [
      "Requirement already satisfied: h3 in c:\\users\\bill\\onedrive - ipn valuers\\documents\\github\\spatial-data-science-in-python-billjwilliamson\\.pixi\\envs\\default\\lib\\site-packages (4.3.0)\n",
      "Requirement already satisfied: geopandas in c:\\users\\bill\\onedrive - ipn valuers\\documents\\github\\spatial-data-science-in-python-billjwilliamson\\.pixi\\envs\\default\\lib\\site-packages (1.1.1)\n",
      "Requirement already satisfied: numpy>=1.24 in c:\\users\\bill\\onedrive - ipn valuers\\documents\\github\\spatial-data-science-in-python-billjwilliamson\\.pixi\\envs\\default\\lib\\site-packages (from geopandas) (2.2.6)\n",
      "Requirement already satisfied: pyogrio>=0.7.2 in c:\\users\\bill\\onedrive - ipn valuers\\documents\\github\\spatial-data-science-in-python-billjwilliamson\\.pixi\\envs\\default\\lib\\site-packages (from geopandas) (0.11.0)\n",
      "Requirement already satisfied: packaging in c:\\users\\bill\\onedrive - ipn valuers\\documents\\github\\spatial-data-science-in-python-billjwilliamson\\.pixi\\envs\\default\\lib\\site-packages (from geopandas) (25.0)\n",
      "Requirement already satisfied: pandas>=2.0.0 in c:\\users\\bill\\onedrive - ipn valuers\\documents\\github\\spatial-data-science-in-python-billjwilliamson\\.pixi\\envs\\default\\lib\\site-packages (from geopandas) (2.3.1)\n",
      "Requirement already satisfied: pyproj>=3.5.0 in c:\\users\\bill\\onedrive - ipn valuers\\documents\\github\\spatial-data-science-in-python-billjwilliamson\\.pixi\\envs\\default\\lib\\site-packages (from geopandas) (3.7.1)\n",
      "Requirement already satisfied: shapely>=2.0.0 in c:\\users\\bill\\onedrive - ipn valuers\\documents\\github\\spatial-data-science-in-python-billjwilliamson\\.pixi\\envs\\default\\lib\\site-packages (from geopandas) (2.1.1)\n",
      "Requirement already satisfied: python-dateutil>=2.8.2 in c:\\users\\bill\\onedrive - ipn valuers\\documents\\github\\spatial-data-science-in-python-billjwilliamson\\.pixi\\envs\\default\\lib\\site-packages (from pandas>=2.0.0->geopandas) (2.9.0.post0)\n",
      "Requirement already satisfied: pytz>=2020.1 in c:\\users\\bill\\onedrive - ipn valuers\\documents\\github\\spatial-data-science-in-python-billjwilliamson\\.pixi\\envs\\default\\lib\\site-packages (from pandas>=2.0.0->geopandas) (2025.2)\n",
      "Requirement already satisfied: tzdata>=2022.7 in c:\\users\\bill\\onedrive - ipn valuers\\documents\\github\\spatial-data-science-in-python-billjwilliamson\\.pixi\\envs\\default\\lib\\site-packages (from pandas>=2.0.0->geopandas) (2025.2)\n",
      "Requirement already satisfied: certifi in c:\\users\\bill\\onedrive - ipn valuers\\documents\\github\\spatial-data-science-in-python-billjwilliamson\\.pixi\\envs\\default\\lib\\site-packages (from pyogrio>=0.7.2->geopandas) (2025.8.3)\n",
      "Requirement already satisfied: six>=1.5 in c:\\users\\bill\\onedrive - ipn valuers\\documents\\github\\spatial-data-science-in-python-billjwilliamson\\.pixi\\envs\\default\\lib\\site-packages (from python-dateutil>=2.8.2->pandas>=2.0.0->geopandas) (1.17.0)\n",
      "Note: you may need to restart the kernel to use updated packages.\n"
     ]
    }
   ],
   "source": [
    "pip install h3 geopandas"
   ]
  }
 ],
 "metadata": {
  "kernelspec": {
   "display_name": "Python 3 (ipykernel)",
   "language": "python",
   "name": "python3"
  },
  "language_info": {
   "codemirror_mode": {
    "name": "ipython",
    "version": 3
   },
   "file_extension": ".py",
   "mimetype": "text/x-python",
   "name": "python",
   "nbconvert_exporter": "python",
   "pygments_lexer": "ipython3",
   "version": "3.12.11"
  }
 },
 "nbformat": 4,
 "nbformat_minor": 5
}
