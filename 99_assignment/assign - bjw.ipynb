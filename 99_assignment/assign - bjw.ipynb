{
 "cells": [
  {
   "cell_type": "markdown",
   "id": "5d3aa9d2-3816-4641-81fb-9529b63f8c09",
   "metadata": {},
   "source": [
    "# Assignment for MZ340V17\n",
    "\n",
    "\n",
    "### Student: Bill Williamson\n",
    "\n",
    "Instructions at https://martinfleischmann.net/sds/micro/course_information/assignment.html"
   ]
  },
  {
   "cell_type": "code",
   "execution_count": null,
   "id": "22bdefa3-376f-452a-9777-81270cc70aec",
   "metadata": {},
   "outputs": [],
   "source": []
  }
 ],
 "metadata": {
  "kernelspec": {
   "display_name": "Python 3 (ipykernel)",
   "language": "python",
   "name": "python3"
  },
  "language_info": {
   "codemirror_mode": {
    "name": "ipython",
    "version": 3
   },
   "file_extension": ".py",
   "mimetype": "text/x-python",
   "name": "python",
   "nbconvert_exporter": "python",
   "pygments_lexer": "ipython3",
   "version": "3.12.11"
  }
 },
 "nbformat": 4,
 "nbformat_minor": 5
}
